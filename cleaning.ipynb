{
 "cells": [
  {
   "cell_type": "code",
   "execution_count": 163,
   "id": "b24b2bdf",
   "metadata": {},
   "outputs": [],
   "source": [
    "import pandas as pd\n",
    "import os"
   ]
  },
  {
   "cell_type": "code",
   "execution_count": 164,
   "id": "b0356ba3",
   "metadata": {},
   "outputs": [],
   "source": [
    "df1 = pd.read_csv(\"data/raw/JC-202009-citibike-tripdata.csv\")\n",
    "df2 = pd.read_csv(\"data/raw/JC-202010-citibike-tripdata.csv\")\n",
    "df3 = pd.read_csv(\"data/raw/JC-202011-citibike-tripdata.csv\")\n",
    "df4 = pd.read_csv(\"data/raw/JC-202012-citibike-tripdata.csv\")\n",
    "df5 = pd.read_csv(\"data/raw/JC-202101-citibike-tripdata.csv\")\n",
    "df6 = pd.read_csv(\"data/raw/JC-202102-citibike-tripdata.csv\")\n",
    "df7 = pd.read_csv(\"data/raw/JC-202103-citibike-tripdata.csv\")\n",
    "df8 = pd.read_csv(\"data/raw/JC-202104-citibike-tripdata.csv\")\n",
    "df9 = pd.read_csv(\"data/raw/JC-202105-citibike-tripdata.csv\")\n",
    "df10 = pd.read_csv(\"data/raw/JC-202106-citibike-tripdata.csv\")\n",
    "df11= pd.read_csv(\"data/raw/JC-202107-citibike-tripdata.csv\")\n",
    "df12 = pd.read_csv(\"data/raw/JC-202108-citibike-tripdata.csv\")\n",
    "df13 = pd.read_csv(\"data/raw/JC-202109-citibike-tripdata.csv\")"
   ]
  },
  {
   "cell_type": "code",
   "execution_count": 165,
   "id": "fcead021",
   "metadata": {},
   "outputs": [],
   "source": [
    "result1 = df1.append([df2, df3, df4, df5])\n",
    "result2 = df6.append([df7, df8, df9, df10, df11, df12, df13])\n",
    "result1 = result1.dropna(how = \"any\", axis = 0)\n",
    "result2 = result2.dropna(how = \"any\", axis = 0)\n",
    "result1 = result1.drop(['birth year', 'gender',\"start station id\",\"end station id\"], axis=1)\n",
    "result2 = result2.drop(['rideable_type','end_station_id','start_station_id'], axis=1)"
   ]
  },
  {
   "cell_type": "code",
   "execution_count": 166,
   "id": "526c49ec",
   "metadata": {},
   "outputs": [],
   "source": [
    "result1.rename(columns={'tripduration': 'duration', \n",
    "                        'starttime':'started_at', \n",
    "                        'stoptime': 'ended_at', \n",
    "                        'start station name': 'start_station_name', \n",
    "                        'start station latitude': 'start_lat',\n",
    "                        'start station longitude': 'start_lng', \n",
    "                        'end station name': 'end_station_name',\n",
    "                        'end station latitude': 'end_lat', \n",
    "                        'end station longitude': 'end_lng', \n",
    "                        'usertype': 'member_casual'}, inplace=True)\n",
    "\n",
    "\n",
    "result1[\"member_casual\"].replace({\"Subscriber\": \"member\", \n",
    "                              'Customer':'casual'}, inplace=True)"
   ]
  },
  {
   "cell_type": "code",
   "execution_count": 167,
   "id": "98d26a89",
   "metadata": {},
   "outputs": [],
   "source": [
    "result2['started_at'] = pd.to_datetime(result2['started_at'])\n",
    "result2['ended_at'] = pd.to_datetime(result2['ended_at'])\n",
    "result2['duration'] = (result2['ended_at']-result2['started_at']).dt.seconds"
   ]
  },
  {
   "cell_type": "code",
   "execution_count": 168,
   "id": "8bddd143",
   "metadata": {},
   "outputs": [],
   "source": [
    "Final_df = result1.append([result2]).reset_index()"
   ]
  },
  {
   "cell_type": "code",
   "execution_count": 169,
   "id": "6030186b",
   "metadata": {},
   "outputs": [
    {
     "data": {
      "text/plain": [
       "index                      0\n",
       "duration                   0\n",
       "started_at                 0\n",
       "ended_at                   0\n",
       "start_station_name         0\n",
       "start_lat                  0\n",
       "start_lng                  0\n",
       "end_station_name           0\n",
       "end_lat                    0\n",
       "end_lng                    0\n",
       "bikeid                433669\n",
       "member_casual              0\n",
       "ride_id               128512\n",
       "dtype: int64"
      ]
     },
     "execution_count": 169,
     "metadata": {},
     "output_type": "execute_result"
    }
   ],
   "source": [
    "Final_df.isnull().sum()"
   ]
  },
  {
   "cell_type": "code",
   "execution_count": 170,
   "id": "92efd5e1",
   "metadata": {},
   "outputs": [
    {
     "name": "stdout",
     "output_type": "stream",
     "text": [
      "data/clean/2020sept-may.csv\n"
     ]
    }
   ],
   "source": [
    "result1\n",
    "output_path = os.path.join(\"data\",\"clean\",\"2020sept-may.csv\")\n",
    "print(output_path)\n",
    "result1.to_csv(output_path, index=False)"
   ]
  },
  {
   "cell_type": "code",
   "execution_count": 171,
   "id": "7fd1c062",
   "metadata": {},
   "outputs": [
    {
     "name": "stdout",
     "output_type": "stream",
     "text": [
      "data/clean/june-2021sept.csv\n"
     ]
    }
   ],
   "source": [
    "result2\n",
    "output_path2 = os.path.join(\"data\",\"clean\",\"june-2021sept.csv\")\n",
    "print(output_path2)\n",
    "result2.to_csv(output_path2, index=False)"
   ]
  },
  {
   "cell_type": "code",
   "execution_count": 172,
   "id": "ee5bd472",
   "metadata": {},
   "outputs": [
    {
     "name": "stdout",
     "output_type": "stream",
     "text": [
      "data/clean/2020sept-2021sept.csv\n"
     ]
    }
   ],
   "source": [
    "Final_df\n",
    "output_path3 = os.path.join(\"data\",\"clean\",\"2020sept-2021sept.csv\")\n",
    "print(output_path3)\n",
    "Final_df.to_csv(output_path3, index=False)"
   ]
  },
  {
   "cell_type": "code",
   "execution_count": null,
   "id": "8ca9d635",
   "metadata": {},
   "outputs": [],
   "source": []
  }
 ],
 "metadata": {
  "kernelspec": {
   "display_name": "Python 3",
   "language": "python",
   "name": "python3"
  },
  "language_info": {
   "codemirror_mode": {
    "name": "ipython",
    "version": 3
   },
   "file_extension": ".py",
   "mimetype": "text/x-python",
   "name": "python",
   "nbconvert_exporter": "python",
   "pygments_lexer": "ipython3",
   "version": "3.8.8"
  }
 },
 "nbformat": 4,
 "nbformat_minor": 5
}
